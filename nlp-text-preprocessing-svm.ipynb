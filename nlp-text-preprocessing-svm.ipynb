{
 "cells": [
  {
   "cell_type": "code",
   "execution_count": 1,
   "id": "998d1df3",
   "metadata": {
    "_cell_guid": "b1076dfc-b9ad-4769-8c92-a6c4dae69d19",
    "_uuid": "8f2839f25d086af736a60e9eeb907d3b93b6e0e5",
    "execution": {
     "iopub.execute_input": "2022-03-15T20:09:55.188620Z",
     "iopub.status.busy": "2022-03-15T20:09:55.186589Z",
     "iopub.status.idle": "2022-03-15T20:09:55.201586Z",
     "shell.execute_reply": "2022-03-15T20:09:55.202088Z",
     "shell.execute_reply.started": "2022-03-15T17:49:58.033978Z"
    },
    "papermill": {
     "duration": 0.043999,
     "end_time": "2022-03-15T20:09:55.202375",
     "exception": false,
     "start_time": "2022-03-15T20:09:55.158376",
     "status": "completed"
    },
    "tags": []
   },
   "outputs": [
    {
     "name": "stdout",
     "output_type": "stream",
     "text": [
      "/kaggle/input/nlp-getting-started/sample_submission.csv\n",
      "/kaggle/input/nlp-getting-started/train.csv\n",
      "/kaggle/input/nlp-getting-started/test.csv\n"
     ]
    }
   ],
   "source": [
    "# This Python 3 environment comes with many helpful analytics libraries installed\n",
    "# It is defined by the kaggle/python Docker image: https://github.com/kaggle/docker-python\n",
    "# For example, here's several helpful packages to load\n",
    "\n",
    "import numpy as np # linear algebra\n",
    "import pandas as pd # data processing, CSV file I/O (e.g. pd.read_csv)\n",
    "\n",
    "# Input data files are available in the read-only \"../input/\" directory\n",
    "# For example, running this (by clicking run or pressing Shift+Enter) will list all files under the input directory\n",
    "\n",
    "import os\n",
    "for dirname, _, filenames in os.walk('/kaggle/input'):\n",
    "    for filename in filenames:\n",
    "        print(os.path.join(dirname, filename))\n",
    "\n",
    "# You can write up to 20GB to the current directory (/kaggle/working/) that gets preserved as output when you create a version using \"Save & Run All\" \n",
    "# You can also write temporary files to /kaggle/temp/, but they won't be saved outside of the current session"
   ]
  },
  {
   "cell_type": "code",
   "execution_count": 2,
   "id": "beb6b87a",
   "metadata": {
    "execution": {
     "iopub.execute_input": "2022-03-15T20:09:55.258091Z",
     "iopub.status.busy": "2022-03-15T20:09:55.257225Z",
     "iopub.status.idle": "2022-03-15T20:09:57.288177Z",
     "shell.execute_reply": "2022-03-15T20:09:57.287593Z",
     "shell.execute_reply.started": "2022-03-15T19:14:18.336578Z"
    },
    "papermill": {
     "duration": 2.06184,
     "end_time": "2022-03-15T20:09:57.288315",
     "exception": false,
     "start_time": "2022-03-15T20:09:55.226475",
     "status": "completed"
    },
    "tags": []
   },
   "outputs": [],
   "source": [
    "import nltk\n",
    "from nltk.corpus import stopwords\n",
    "\n",
    "from nltk.stem import PorterStemmer\n",
    "from nltk.stem import WordNetLemmatizer\n",
    "from sklearn import feature_extraction, model_selection, preprocessing\n",
    "from sklearn.linear_model import LogisticRegression\n",
    "from sklearn.svm import SVC\n",
    "from xgboost import XGBClassifier\n",
    "from sklearn.ensemble import RandomForestClassifier\n",
    "from sklearn.naive_bayes import MultinomialNB\n",
    "from sklearn.metrics import classification_report,confusion_matrix,f1_score\n",
    "\n",
    "import re\n",
    "import string"
   ]
  },
  {
   "cell_type": "code",
   "execution_count": 3,
   "id": "4c06bc9b",
   "metadata": {
    "execution": {
     "iopub.execute_input": "2022-03-15T20:09:57.337817Z",
     "iopub.status.busy": "2022-03-15T20:09:57.335609Z",
     "iopub.status.idle": "2022-03-15T20:10:06.862994Z",
     "shell.execute_reply": "2022-03-15T20:10:06.862318Z",
     "shell.execute_reply.started": "2022-03-15T17:47:52.814402Z"
    },
    "papermill": {
     "duration": 9.552357,
     "end_time": "2022-03-15T20:10:06.863161",
     "exception": false,
     "start_time": "2022-03-15T20:09:57.310804",
     "status": "completed"
    },
    "tags": []
   },
   "outputs": [
    {
     "name": "stdout",
     "output_type": "stream",
     "text": [
      "Collecting pyspellchecker\r\n",
      "  Downloading pyspellchecker-0.6.3-py3-none-any.whl (2.7 MB)\r\n",
      "     |████████████████████████████████| 2.7 MB 4.3 MB/s            \r\n",
      "\u001b[?25hInstalling collected packages: pyspellchecker\r\n",
      "Successfully installed pyspellchecker-0.6.3\r\n",
      "\u001b[33mWARNING: Running pip as the 'root' user can result in broken permissions and conflicting behaviour with the system package manager. It is recommended to use a virtual environment instead: https://pip.pypa.io/warnings/venv\u001b[0m\r\n",
      "Note: you may need to restart the kernel to use updated packages.\n"
     ]
    }
   ],
   "source": [
    "pip install pyspellchecker"
   ]
  },
  {
   "cell_type": "code",
   "execution_count": 4,
   "id": "6b83299b",
   "metadata": {
    "execution": {
     "iopub.execute_input": "2022-03-15T20:10:06.918880Z",
     "iopub.status.busy": "2022-03-15T20:10:06.918288Z",
     "iopub.status.idle": "2022-03-15T20:10:06.927601Z",
     "shell.execute_reply": "2022-03-15T20:10:06.927080Z"
    },
    "papermill": {
     "duration": 0.038427,
     "end_time": "2022-03-15T20:10:06.927746",
     "exception": false,
     "start_time": "2022-03-15T20:10:06.889319",
     "status": "completed"
    },
    "tags": []
   },
   "outputs": [],
   "source": [
    "from spellchecker import SpellChecker"
   ]
  },
  {
   "cell_type": "code",
   "execution_count": 5,
   "id": "e2035539",
   "metadata": {
    "execution": {
     "iopub.execute_input": "2022-03-15T20:10:06.990738Z",
     "iopub.status.busy": "2022-03-15T20:10:06.990102Z",
     "iopub.status.idle": "2022-03-15T20:10:07.158161Z",
     "shell.execute_reply": "2022-03-15T20:10:07.158669Z",
     "shell.execute_reply.started": "2022-03-15T17:48:25.320325Z"
    },
    "papermill": {
     "duration": 0.206283,
     "end_time": "2022-03-15T20:10:07.158846",
     "exception": false,
     "start_time": "2022-03-15T20:10:06.952563",
     "status": "completed"
    },
    "tags": []
   },
   "outputs": [
    {
     "name": "stdout",
     "output_type": "stream",
     "text": [
      "[nltk_data] Downloading package wordnet to /usr/share/nltk_data...\n",
      "[nltk_data]   Package wordnet is already up-to-date!\n"
     ]
    },
    {
     "data": {
      "text/plain": [
       "True"
      ]
     },
     "execution_count": 5,
     "metadata": {},
     "output_type": "execute_result"
    }
   ],
   "source": [
    "nltk.download('wordnet')"
   ]
  },
  {
   "cell_type": "code",
   "execution_count": 6,
   "id": "2dcef1de",
   "metadata": {
    "execution": {
     "iopub.execute_input": "2022-03-15T20:10:07.214029Z",
     "iopub.status.busy": "2022-03-15T20:10:07.213424Z",
     "iopub.status.idle": "2022-03-15T20:10:07.238245Z",
     "shell.execute_reply": "2022-03-15T20:10:07.237690Z",
     "shell.execute_reply.started": "2022-03-15T17:48:39.83689Z"
    },
    "papermill": {
     "duration": 0.054058,
     "end_time": "2022-03-15T20:10:07.238380",
     "exception": false,
     "start_time": "2022-03-15T20:10:07.184322",
     "status": "completed"
    },
    "tags": []
   },
   "outputs": [
    {
     "name": "stdout",
     "output_type": "stream",
     "text": [
      "[nltk_data] Downloading package stopwords to /usr/share/nltk_data...\n",
      "[nltk_data]   Package stopwords is already up-to-date!\n"
     ]
    },
    {
     "data": {
      "text/plain": [
       "True"
      ]
     },
     "execution_count": 6,
     "metadata": {},
     "output_type": "execute_result"
    }
   ],
   "source": [
    "nltk.download('stopwords')"
   ]
  },
  {
   "cell_type": "code",
   "execution_count": 7,
   "id": "4608dc2b",
   "metadata": {
    "execution": {
     "iopub.execute_input": "2022-03-15T20:10:07.296214Z",
     "iopub.status.busy": "2022-03-15T20:10:07.295572Z",
     "iopub.status.idle": "2022-03-15T20:10:07.364062Z",
     "shell.execute_reply": "2022-03-15T20:10:07.364550Z",
     "shell.execute_reply.started": "2022-03-15T17:50:03.872817Z"
    },
    "papermill": {
     "duration": 0.100183,
     "end_time": "2022-03-15T20:10:07.364732",
     "exception": false,
     "start_time": "2022-03-15T20:10:07.264549",
     "status": "completed"
    },
    "tags": []
   },
   "outputs": [],
   "source": [
    "train_data=pd.read_csv('../input/nlp-getting-started/train.csv')\n",
    "test_data=pd.read_csv('../input/nlp-getting-started/test.csv')"
   ]
  },
  {
   "cell_type": "code",
   "execution_count": 8,
   "id": "9278e879",
   "metadata": {
    "execution": {
     "iopub.execute_input": "2022-03-15T20:10:07.422765Z",
     "iopub.status.busy": "2022-03-15T20:10:07.422143Z",
     "iopub.status.idle": "2022-03-15T20:10:07.424748Z",
     "shell.execute_reply": "2022-03-15T20:10:07.425280Z",
     "shell.execute_reply.started": "2022-03-15T17:50:21.415097Z"
    },
    "papermill": {
     "duration": 0.034438,
     "end_time": "2022-03-15T20:10:07.425436",
     "exception": false,
     "start_time": "2022-03-15T20:10:07.390998",
     "status": "completed"
    },
    "tags": []
   },
   "outputs": [
    {
     "data": {
      "text/plain": [
       "(7613, 5)"
      ]
     },
     "execution_count": 8,
     "metadata": {},
     "output_type": "execute_result"
    }
   ],
   "source": [
    "train_data.shape"
   ]
  },
  {
   "cell_type": "code",
   "execution_count": 9,
   "id": "74560bb7",
   "metadata": {
    "execution": {
     "iopub.execute_input": "2022-03-15T20:10:07.480378Z",
     "iopub.status.busy": "2022-03-15T20:10:07.479777Z",
     "iopub.status.idle": "2022-03-15T20:10:07.495413Z",
     "shell.execute_reply": "2022-03-15T20:10:07.495949Z",
     "shell.execute_reply.started": "2022-03-15T17:50:34.123996Z"
    },
    "papermill": {
     "duration": 0.044564,
     "end_time": "2022-03-15T20:10:07.496118",
     "exception": false,
     "start_time": "2022-03-15T20:10:07.451554",
     "status": "completed"
    },
    "tags": []
   },
   "outputs": [
    {
     "data": {
      "text/html": [
       "<div>\n",
       "<style scoped>\n",
       "    .dataframe tbody tr th:only-of-type {\n",
       "        vertical-align: middle;\n",
       "    }\n",
       "\n",
       "    .dataframe tbody tr th {\n",
       "        vertical-align: top;\n",
       "    }\n",
       "\n",
       "    .dataframe thead th {\n",
       "        text-align: right;\n",
       "    }\n",
       "</style>\n",
       "<table border=\"1\" class=\"dataframe\">\n",
       "  <thead>\n",
       "    <tr style=\"text-align: right;\">\n",
       "      <th></th>\n",
       "      <th>id</th>\n",
       "      <th>keyword</th>\n",
       "      <th>location</th>\n",
       "      <th>text</th>\n",
       "      <th>target</th>\n",
       "    </tr>\n",
       "  </thead>\n",
       "  <tbody>\n",
       "    <tr>\n",
       "      <th>0</th>\n",
       "      <td>1</td>\n",
       "      <td>NaN</td>\n",
       "      <td>NaN</td>\n",
       "      <td>Our Deeds are the Reason of this #earthquake M...</td>\n",
       "      <td>1</td>\n",
       "    </tr>\n",
       "    <tr>\n",
       "      <th>1</th>\n",
       "      <td>4</td>\n",
       "      <td>NaN</td>\n",
       "      <td>NaN</td>\n",
       "      <td>Forest fire near La Ronge Sask. Canada</td>\n",
       "      <td>1</td>\n",
       "    </tr>\n",
       "    <tr>\n",
       "      <th>2</th>\n",
       "      <td>5</td>\n",
       "      <td>NaN</td>\n",
       "      <td>NaN</td>\n",
       "      <td>All residents asked to 'shelter in place' are ...</td>\n",
       "      <td>1</td>\n",
       "    </tr>\n",
       "    <tr>\n",
       "      <th>3</th>\n",
       "      <td>6</td>\n",
       "      <td>NaN</td>\n",
       "      <td>NaN</td>\n",
       "      <td>13,000 people receive #wildfires evacuation or...</td>\n",
       "      <td>1</td>\n",
       "    </tr>\n",
       "    <tr>\n",
       "      <th>4</th>\n",
       "      <td>7</td>\n",
       "      <td>NaN</td>\n",
       "      <td>NaN</td>\n",
       "      <td>Just got sent this photo from Ruby #Alaska as ...</td>\n",
       "      <td>1</td>\n",
       "    </tr>\n",
       "  </tbody>\n",
       "</table>\n",
       "</div>"
      ],
      "text/plain": [
       "   id keyword location                                               text  \\\n",
       "0   1     NaN      NaN  Our Deeds are the Reason of this #earthquake M...   \n",
       "1   4     NaN      NaN             Forest fire near La Ronge Sask. Canada   \n",
       "2   5     NaN      NaN  All residents asked to 'shelter in place' are ...   \n",
       "3   6     NaN      NaN  13,000 people receive #wildfires evacuation or...   \n",
       "4   7     NaN      NaN  Just got sent this photo from Ruby #Alaska as ...   \n",
       "\n",
       "   target  \n",
       "0       1  \n",
       "1       1  \n",
       "2       1  \n",
       "3       1  \n",
       "4       1  "
      ]
     },
     "execution_count": 9,
     "metadata": {},
     "output_type": "execute_result"
    }
   ],
   "source": [
    "train_data.head()"
   ]
  },
  {
   "cell_type": "markdown",
   "id": "98b082d7",
   "metadata": {
    "papermill": {
     "duration": 0.026052,
     "end_time": "2022-03-15T20:10:07.549690",
     "exception": false,
     "start_time": "2022-03-15T20:10:07.523638",
     "status": "completed"
    },
    "tags": []
   },
   "source": [
    "#Text Preprocessing"
   ]
  },
  {
   "cell_type": "code",
   "execution_count": 10,
   "id": "3471bc95",
   "metadata": {
    "execution": {
     "iopub.execute_input": "2022-03-15T20:10:07.608868Z",
     "iopub.status.busy": "2022-03-15T20:10:07.608279Z",
     "iopub.status.idle": "2022-03-15T20:10:07.622534Z",
     "shell.execute_reply": "2022-03-15T20:10:07.622985Z",
     "shell.execute_reply.started": "2022-03-15T17:51:26.798509Z"
    },
    "papermill": {
     "duration": 0.044215,
     "end_time": "2022-03-15T20:10:07.623172",
     "exception": false,
     "start_time": "2022-03-15T20:10:07.578957",
     "status": "completed"
    },
    "tags": []
   },
   "outputs": [],
   "source": [
    "#Upper case to Lower case\n",
    "for df in [train_data,test_data]:\n",
    "    df['text']=df['text'].str.lower()"
   ]
  },
  {
   "cell_type": "code",
   "execution_count": 11,
   "id": "acc70e98",
   "metadata": {
    "execution": {
     "iopub.execute_input": "2022-03-15T20:10:07.681068Z",
     "iopub.status.busy": "2022-03-15T20:10:07.680425Z",
     "iopub.status.idle": "2022-03-15T20:10:07.709717Z",
     "shell.execute_reply": "2022-03-15T20:10:07.710269Z",
     "shell.execute_reply.started": "2022-03-15T17:52:14.126393Z"
    },
    "papermill": {
     "duration": 0.059056,
     "end_time": "2022-03-15T20:10:07.710599",
     "exception": false,
     "start_time": "2022-03-15T20:10:07.651543",
     "status": "completed"
    },
    "tags": []
   },
   "outputs": [],
   "source": [
    "#URL clean-up\n",
    "def remove_urls(text):\n",
    "    url=re.compile(r'https?://\\S+|www\\.\\S+')\n",
    "    return url.sub(r'', text)\n",
    "\n",
    "for df in [train_data,test_data]:\n",
    "    df['text']=df['text'].apply(remove_urls)\n"
   ]
  },
  {
   "cell_type": "code",
   "execution_count": 12,
   "id": "bae0a5b6",
   "metadata": {
    "execution": {
     "iopub.execute_input": "2022-03-15T20:10:07.783650Z",
     "iopub.status.busy": "2022-03-15T20:10:07.783047Z",
     "iopub.status.idle": "2022-03-15T20:10:07.784791Z",
     "shell.execute_reply": "2022-03-15T20:10:07.785295Z",
     "shell.execute_reply.started": "2022-03-15T17:52:37.701587Z"
    },
    "papermill": {
     "duration": 0.047381,
     "end_time": "2022-03-15T20:10:07.785453",
     "exception": false,
     "start_time": "2022-03-15T20:10:07.738072",
     "status": "completed"
    },
    "tags": []
   },
   "outputs": [],
   "source": [
    "#HTML clean-up\n",
    "def remove_html(text):\n",
    "    html=re.compile('<.*?>')\n",
    "    return html.sub(r'', text)\n",
    "\n",
    "for df in [train_data,test_data]:\n",
    "    df['text']=df['text'].apply(remove_html)"
   ]
  },
  {
   "cell_type": "code",
   "execution_count": 13,
   "id": "c625326c",
   "metadata": {
    "execution": {
     "iopub.execute_input": "2022-03-15T20:10:07.841492Z",
     "iopub.status.busy": "2022-03-15T20:10:07.840905Z",
     "iopub.status.idle": "2022-03-15T20:10:07.913909Z",
     "shell.execute_reply": "2022-03-15T20:10:07.913408Z",
     "shell.execute_reply.started": "2022-03-15T17:53:10.520755Z"
    },
    "papermill": {
     "duration": 0.102011,
     "end_time": "2022-03-15T20:10:07.914064",
     "exception": false,
     "start_time": "2022-03-15T20:10:07.812053",
     "status": "completed"
    },
    "tags": []
   },
   "outputs": [],
   "source": [
    "#Punctuation removal\n",
    "def remove_punc(row):\n",
    "    punc=string.punctuation\n",
    "    return ''.join([char for char in row if char not in punc])\n",
    "\n",
    "train_data['no_punc']=train_data['text'].apply(remove_punc)\n",
    "test_data['no_punc']=test_data['text'].apply(remove_punc)"
   ]
  },
  {
   "cell_type": "code",
   "execution_count": 14,
   "id": "4c46a7da",
   "metadata": {
    "execution": {
     "iopub.execute_input": "2022-03-15T20:10:07.975906Z",
     "iopub.status.busy": "2022-03-15T20:10:07.975312Z",
     "iopub.status.idle": "2022-03-15T20:10:09.456392Z",
     "shell.execute_reply": "2022-03-15T20:10:09.455760Z",
     "shell.execute_reply.started": "2022-03-15T17:53:31.998721Z"
    },
    "papermill": {
     "duration": 1.514794,
     "end_time": "2022-03-15T20:10:09.456548",
     "exception": false,
     "start_time": "2022-03-15T20:10:07.941754",
     "status": "completed"
    },
    "tags": []
   },
   "outputs": [],
   "source": [
    "#Stopwords removal\n",
    "def remove_stopwords(row):\n",
    "    stop_words=stopwords.words('english')\n",
    "    return ' '.join([word for word in row.split() if word not in stop_words])\n",
    "\n",
    "for df in [train_data,test_data]:\n",
    "    df['no-stopwords']=df['no_punc'].apply(remove_stopwords)"
   ]
  },
  {
   "cell_type": "code",
   "execution_count": 15,
   "id": "0a8e17ef",
   "metadata": {
    "execution": {
     "iopub.execute_input": "2022-03-15T20:10:09.547480Z",
     "iopub.status.busy": "2022-03-15T20:10:09.546831Z",
     "iopub.status.idle": "2022-03-15T20:10:09.549477Z",
     "shell.execute_reply": "2022-03-15T20:10:09.549045Z",
     "shell.execute_reply.started": "2022-03-15T17:53:59.110526Z"
    },
    "papermill": {
     "duration": 0.065639,
     "end_time": "2022-03-15T20:10:09.549631",
     "exception": false,
     "start_time": "2022-03-15T20:10:09.483992",
     "status": "completed"
    },
    "tags": []
   },
   "outputs": [],
   "source": [
    "#Digits removal\n",
    "def remove_digits():\n",
    "    for df in [train_data,test_data]:\n",
    "        df['remove_digits']=df['no-stopwords'].apply(lambda x:re.sub(r'[0-9]+', '', x))\n",
    "        \n",
    "remove_digits()"
   ]
  },
  {
   "cell_type": "code",
   "execution_count": 16,
   "id": "b862bcab",
   "metadata": {
    "execution": {
     "iopub.execute_input": "2022-03-15T20:10:09.620091Z",
     "iopub.status.busy": "2022-03-15T20:10:09.614945Z",
     "iopub.status.idle": "2022-03-15T20:10:11.506016Z",
     "shell.execute_reply": "2022-03-15T20:10:11.505159Z",
     "shell.execute_reply.started": "2022-03-15T17:54:26.406945Z"
    },
    "papermill": {
     "duration": 1.929782,
     "end_time": "2022-03-15T20:10:11.506253",
     "exception": false,
     "start_time": "2022-03-15T20:10:09.576471",
     "status": "completed"
    },
    "tags": []
   },
   "outputs": [],
   "source": [
    "#Stemming\n",
    "stemmer = PorterStemmer()\n",
    "def stemming(text):\n",
    "    return \" \".join([stemmer.stem(word) for word in text.split()])\n",
    "for df in [train_data,test_data]:\n",
    "    df[\"stemmed\"] = df[\"remove_digits\"].apply(stemming)"
   ]
  },
  {
   "cell_type": "code",
   "execution_count": 17,
   "id": "89a7ed15",
   "metadata": {
    "execution": {
     "iopub.execute_input": "2022-03-15T20:10:11.565567Z",
     "iopub.status.busy": "2022-03-15T20:10:11.564931Z",
     "iopub.status.idle": "2022-03-15T20:10:13.635580Z",
     "shell.execute_reply": "2022-03-15T20:10:13.635058Z",
     "shell.execute_reply.started": "2022-03-15T17:54:46.608769Z"
    },
    "papermill": {
     "duration": 2.100445,
     "end_time": "2022-03-15T20:10:13.635719",
     "exception": false,
     "start_time": "2022-03-15T20:10:11.535274",
     "status": "completed"
    },
    "tags": []
   },
   "outputs": [],
   "source": [
    "#Lemmatization\n",
    "lemmatizer = WordNetLemmatizer()\n",
    "def lemmatization(text):\n",
    "    return \" \".join([lemmatizer.lemmatize(word) for word in text.split()])\n",
    "for df in [train_data,test_data]:\n",
    "    df[\"lemmatized\"] = df[\"stemmed\"].apply(lemmatization)"
   ]
  },
  {
   "cell_type": "code",
   "execution_count": 18,
   "id": "ccba3616",
   "metadata": {
    "execution": {
     "iopub.execute_input": "2022-03-15T20:10:13.692859Z",
     "iopub.status.busy": "2022-03-15T20:10:13.692111Z",
     "iopub.status.idle": "2022-03-15T21:03:24.976643Z",
     "shell.execute_reply": "2022-03-15T21:03:24.976038Z",
     "shell.execute_reply.started": "2022-03-15T17:55:27.679844Z"
    },
    "papermill": {
     "duration": 3191.314663,
     "end_time": "2022-03-15T21:03:24.976790",
     "exception": false,
     "start_time": "2022-03-15T20:10:13.662127",
     "status": "completed"
    },
    "tags": []
   },
   "outputs": [],
   "source": [
    "#Spelling correction\n",
    "spellchecker=SpellChecker()\n",
    "def spell_correction(row):\n",
    "    \n",
    "    incorrect=spellchecker.unknown(row.split())\n",
    "    wordlist=[]\n",
    "    for word in row.split():\n",
    "        if word in incorrect:\n",
    "            correct_word=spellchecker.correction(word)\n",
    "            wordlist.append(correct_word)\n",
    "        else:\n",
    "            wordlist.append(word)\n",
    "    return ' '.join(wordlist)\n",
    "    \n",
    "for df in [train_data,test_data]:\n",
    "    df['spell_check']=df['lemmatized'].apply(spell_correction)"
   ]
  },
  {
   "cell_type": "code",
   "execution_count": 19,
   "id": "4e600233",
   "metadata": {
    "execution": {
     "iopub.execute_input": "2022-03-15T21:03:25.035601Z",
     "iopub.status.busy": "2022-03-15T21:03:25.034978Z",
     "iopub.status.idle": "2022-03-15T21:03:25.037320Z",
     "shell.execute_reply": "2022-03-15T21:03:25.037790Z",
     "shell.execute_reply.started": "2022-03-15T19:07:44.010918Z"
    },
    "papermill": {
     "duration": 0.033936,
     "end_time": "2022-03-15T21:03:25.037964",
     "exception": false,
     "start_time": "2022-03-15T21:03:25.004028",
     "status": "completed"
    },
    "tags": []
   },
   "outputs": [
    {
     "data": {
      "text/plain": [
       "Index(['id', 'keyword', 'location', 'text', 'target', 'no_punc',\n",
       "       'no-stopwords', 'remove_digits', 'stemmed', 'lemmatized',\n",
       "       'spell_check'],\n",
       "      dtype='object')"
      ]
     },
     "execution_count": 19,
     "metadata": {},
     "output_type": "execute_result"
    }
   ],
   "source": [
    "train_data.columns"
   ]
  },
  {
   "cell_type": "code",
   "execution_count": 20,
   "id": "8f148118",
   "metadata": {
    "execution": {
     "iopub.execute_input": "2022-03-15T21:03:25.096758Z",
     "iopub.status.busy": "2022-03-15T21:03:25.096184Z",
     "iopub.status.idle": "2022-03-15T21:03:25.107346Z",
     "shell.execute_reply": "2022-03-15T21:03:25.107777Z",
     "shell.execute_reply.started": "2022-03-15T19:07:46.862416Z"
    },
    "papermill": {
     "duration": 0.040966,
     "end_time": "2022-03-15T21:03:25.107945",
     "exception": false,
     "start_time": "2022-03-15T21:03:25.066979",
     "status": "completed"
    },
    "tags": []
   },
   "outputs": [],
   "source": [
    "X_data=train_data.drop(['id','text','target','no_punc','no-stopwords','remove_digits','stemmed','lemmatized'],axis=1)\n",
    "y_data=train_data['target']"
   ]
  },
  {
   "cell_type": "code",
   "execution_count": 21,
   "id": "cacd5a59",
   "metadata": {
    "execution": {
     "iopub.execute_input": "2022-03-15T21:03:25.165132Z",
     "iopub.status.busy": "2022-03-15T21:03:25.164568Z",
     "iopub.status.idle": "2022-03-15T21:03:25.174550Z",
     "shell.execute_reply": "2022-03-15T21:03:25.173676Z",
     "shell.execute_reply.started": "2022-03-15T19:07:51.070579Z"
    },
    "papermill": {
     "duration": 0.039579,
     "end_time": "2022-03-15T21:03:25.174785",
     "exception": false,
     "start_time": "2022-03-15T21:03:25.135206",
     "status": "completed"
    },
    "tags": []
   },
   "outputs": [
    {
     "name": "stdout",
     "output_type": "stream",
     "text": [
      "5329 2284 7613\n"
     ]
    }
   ],
   "source": [
    "#Train test split\n",
    "from sklearn.model_selection import train_test_split\n",
    "\n",
    "X_train, X_test, y_train, y_test = train_test_split(X_data, y_data, test_size=0.3)\n",
    "\n",
    "print(len(X_train), len(X_test), len(X_train)+len(X_test))"
   ]
  },
  {
   "cell_type": "code",
   "execution_count": 22,
   "id": "a72e5080",
   "metadata": {
    "execution": {
     "iopub.execute_input": "2022-03-15T21:03:25.236198Z",
     "iopub.status.busy": "2022-03-15T21:03:25.234440Z",
     "iopub.status.idle": "2022-03-15T21:03:25.363849Z",
     "shell.execute_reply": "2022-03-15T21:03:25.363289Z",
     "shell.execute_reply.started": "2022-03-15T19:07:54.79137Z"
    },
    "papermill": {
     "duration": 0.159654,
     "end_time": "2022-03-15T21:03:25.364033",
     "exception": false,
     "start_time": "2022-03-15T21:03:25.204379",
     "status": "completed"
    },
    "tags": []
   },
   "outputs": [],
   "source": [
    "#Count Vectorizer\n",
    "from sklearn.feature_extraction.text import CountVectorizer\n",
    "cv = CountVectorizer()\n",
    "train_vectors = cv.fit_transform(X_train[\"spell_check\"])\n",
    "test_vectors = cv.transform(X_test[\"spell_check\"])\n",
    "test_data_vectors=cv.transform(test_data['spell_check']) "
   ]
  },
  {
   "cell_type": "code",
   "execution_count": 23,
   "id": "b2a24305",
   "metadata": {
    "execution": {
     "iopub.execute_input": "2022-03-15T21:03:25.426611Z",
     "iopub.status.busy": "2022-03-15T21:03:25.425612Z",
     "iopub.status.idle": "2022-03-15T21:03:36.862339Z",
     "shell.execute_reply": "2022-03-15T21:03:36.862774Z",
     "shell.execute_reply.started": "2022-03-15T19:14:27.762089Z"
    },
    "papermill": {
     "duration": 11.47054,
     "end_time": "2022-03-15T21:03:36.862949",
     "exception": false,
     "start_time": "2022-03-15T21:03:25.392409",
     "status": "completed"
    },
    "tags": []
   },
   "outputs": [
    {
     "name": "stderr",
     "output_type": "stream",
     "text": [
      "/opt/conda/lib/python3.7/site-packages/xgboost/sklearn.py:1224: UserWarning: The use of label encoder in XGBClassifier is deprecated and will be removed in a future release. To remove this warning, do the following: 1) Pass option use_label_encoder=False when constructing XGBClassifier object; and 2) Encode your labels (y) as integers starting with 0, i.e. 0, 1, 2, ..., [num_class - 1].\n",
      "  warnings.warn(label_encoder_deprecation_msg, UserWarning)\n"
     ]
    },
    {
     "name": "stdout",
     "output_type": "stream",
     "text": [
      "[21:03:30] WARNING: ../src/learner.cc:1115: Starting in XGBoost 1.3.0, the default evaluation metric used with the objective 'binary:logistic' was changed from 'error' to 'logloss'. Explicitly set eval_metric if you'd like to restore the old behavior.\n"
     ]
    },
    {
     "data": {
      "text/html": [
       "<div>\n",
       "<style scoped>\n",
       "    .dataframe tbody tr th:only-of-type {\n",
       "        vertical-align: middle;\n",
       "    }\n",
       "\n",
       "    .dataframe tbody tr th {\n",
       "        vertical-align: top;\n",
       "    }\n",
       "\n",
       "    .dataframe thead th {\n",
       "        text-align: right;\n",
       "    }\n",
       "</style>\n",
       "<table border=\"1\" class=\"dataframe\">\n",
       "  <thead>\n",
       "    <tr style=\"text-align: right;\">\n",
       "      <th></th>\n",
       "      <th>Model</th>\n",
       "      <th>F1-score</th>\n",
       "    </tr>\n",
       "  </thead>\n",
       "  <tbody>\n",
       "    <tr>\n",
       "      <th>0</th>\n",
       "      <td>LogisticRegression</td>\n",
       "      <td>0.750834</td>\n",
       "    </tr>\n",
       "    <tr>\n",
       "      <th>1</th>\n",
       "      <td>SVC</td>\n",
       "      <td>0.745422</td>\n",
       "    </tr>\n",
       "    <tr>\n",
       "      <th>2</th>\n",
       "      <td>XGBClassifier</td>\n",
       "      <td>0.729746</td>\n",
       "    </tr>\n",
       "    <tr>\n",
       "      <th>3</th>\n",
       "      <td>RandomForestClassifier</td>\n",
       "      <td>0.738728</td>\n",
       "    </tr>\n",
       "    <tr>\n",
       "      <th>4</th>\n",
       "      <td>MultinomialNB</td>\n",
       "      <td>0.755700</td>\n",
       "    </tr>\n",
       "  </tbody>\n",
       "</table>\n",
       "</div>"
      ],
      "text/plain": [
       "                    Model  F1-score\n",
       "0      LogisticRegression  0.750834\n",
       "1                     SVC  0.745422\n",
       "2           XGBClassifier  0.729746\n",
       "3  RandomForestClassifier  0.738728\n",
       "4           MultinomialNB  0.755700"
      ]
     },
     "execution_count": 23,
     "metadata": {},
     "output_type": "execute_result"
    }
   ],
   "source": [
    "#Model Selection\n",
    "pred=[]\n",
    "for model in [LogisticRegression,SVC,XGBClassifier,RandomForestClassifier,MultinomialNB]:\n",
    "    classifier=model().fit(train_vectors,y_train)\n",
    "    prediction=classifier.predict(test_vectors)\n",
    "    p=f1_score(y_test,prediction)\n",
    "    pred.append(p)\n",
    "pd.DataFrame({'Model':['LogisticRegression','SVC','XGBClassifier','RandomForestClassifier','MultinomialNB'],'F1-score':pred})"
   ]
  },
  {
   "cell_type": "code",
   "execution_count": 24,
   "id": "f8a2c284",
   "metadata": {
    "execution": {
     "iopub.execute_input": "2022-03-15T21:03:36.924024Z",
     "iopub.status.busy": "2022-03-15T21:03:36.922106Z",
     "iopub.status.idle": "2022-03-15T21:03:40.379460Z",
     "shell.execute_reply": "2022-03-15T21:03:40.380088Z",
     "shell.execute_reply.started": "2022-03-15T19:15:16.095136Z"
    },
    "papermill": {
     "duration": 3.488969,
     "end_time": "2022-03-15T21:03:40.380259",
     "exception": false,
     "start_time": "2022-03-15T21:03:36.891290",
     "status": "completed"
    },
    "tags": []
   },
   "outputs": [
    {
     "data": {
      "text/plain": [
       "SVC()"
      ]
     },
     "execution_count": 24,
     "metadata": {},
     "output_type": "execute_result"
    }
   ],
   "source": [
    "model=SVC()\n",
    "model.fit(train_vectors,y_train)"
   ]
  },
  {
   "cell_type": "code",
   "execution_count": 25,
   "id": "8d57cf6d",
   "metadata": {
    "execution": {
     "iopub.execute_input": "2022-03-15T21:03:40.440871Z",
     "iopub.status.busy": "2022-03-15T21:03:40.440290Z",
     "iopub.status.idle": "2022-03-15T21:03:41.448780Z",
     "shell.execute_reply": "2022-03-15T21:03:41.448275Z",
     "shell.execute_reply.started": "2022-03-15T19:16:16.274123Z"
    },
    "papermill": {
     "duration": 1.040165,
     "end_time": "2022-03-15T21:03:41.448966",
     "exception": false,
     "start_time": "2022-03-15T21:03:40.408801",
     "status": "completed"
    },
    "tags": []
   },
   "outputs": [],
   "source": [
    "predictions = model.predict(test_vectors)"
   ]
  },
  {
   "cell_type": "code",
   "execution_count": 26,
   "id": "22253b15",
   "metadata": {
    "execution": {
     "iopub.execute_input": "2022-03-15T21:03:41.512324Z",
     "iopub.status.busy": "2022-03-15T21:03:41.511710Z",
     "iopub.status.idle": "2022-03-15T21:03:41.517221Z",
     "shell.execute_reply": "2022-03-15T21:03:41.517819Z",
     "shell.execute_reply.started": "2022-03-15T19:16:20.942367Z"
    },
    "papermill": {
     "duration": 0.039575,
     "end_time": "2022-03-15T21:03:41.517988",
     "exception": false,
     "start_time": "2022-03-15T21:03:41.478413",
     "status": "completed"
    },
    "tags": []
   },
   "outputs": [
    {
     "name": "stdout",
     "output_type": "stream",
     "text": [
      "0.7454223272297696\n"
     ]
    }
   ],
   "source": [
    "#Evaluation\n",
    "\n",
    "from sklearn.metrics import classification_report, confusion_matrix, f1_score\n",
    "print(f1_score(y_test,predictions))"
   ]
  },
  {
   "cell_type": "code",
   "execution_count": 27,
   "id": "daf6376b",
   "metadata": {
    "execution": {
     "iopub.execute_input": "2022-03-15T21:03:41.579299Z",
     "iopub.status.busy": "2022-03-15T21:03:41.578709Z",
     "iopub.status.idle": "2022-03-15T21:03:41.587004Z",
     "shell.execute_reply": "2022-03-15T21:03:41.586317Z",
     "shell.execute_reply.started": "2022-03-15T19:16:24.765001Z"
    },
    "papermill": {
     "duration": 0.040165,
     "end_time": "2022-03-15T21:03:41.587194",
     "exception": false,
     "start_time": "2022-03-15T21:03:41.547029",
     "status": "completed"
    },
    "tags": []
   },
   "outputs": [
    {
     "name": "stdout",
     "output_type": "stream",
     "text": [
      "[[1222  111]\n",
      " [ 320  631]]\n"
     ]
    }
   ],
   "source": [
    "print(confusion_matrix(y_test,predictions))"
   ]
  },
  {
   "cell_type": "code",
   "execution_count": 28,
   "id": "9ea76f7d",
   "metadata": {
    "execution": {
     "iopub.execute_input": "2022-03-15T21:03:41.651851Z",
     "iopub.status.busy": "2022-03-15T21:03:41.651219Z",
     "iopub.status.idle": "2022-03-15T21:03:41.662783Z",
     "shell.execute_reply": "2022-03-15T21:03:41.662246Z",
     "shell.execute_reply.started": "2022-03-15T19:16:27.901592Z"
    },
    "papermill": {
     "duration": 0.04548,
     "end_time": "2022-03-15T21:03:41.662948",
     "exception": false,
     "start_time": "2022-03-15T21:03:41.617468",
     "status": "completed"
    },
    "tags": []
   },
   "outputs": [
    {
     "name": "stdout",
     "output_type": "stream",
     "text": [
      "              precision    recall  f1-score   support\n",
      "\n",
      "           0       0.79      0.92      0.85      1333\n",
      "           1       0.85      0.66      0.75       951\n",
      "\n",
      "    accuracy                           0.81      2284\n",
      "   macro avg       0.82      0.79      0.80      2284\n",
      "weighted avg       0.82      0.81      0.81      2284\n",
      "\n"
     ]
    }
   ],
   "source": [
    "print(classification_report(y_test,predictions))"
   ]
  },
  {
   "cell_type": "code",
   "execution_count": 29,
   "id": "e33e60b6",
   "metadata": {
    "execution": {
     "iopub.execute_input": "2022-03-15T21:03:41.728839Z",
     "iopub.status.busy": "2022-03-15T21:03:41.728234Z",
     "iopub.status.idle": "2022-03-15T21:03:43.192813Z",
     "shell.execute_reply": "2022-03-15T21:03:43.193286Z",
     "shell.execute_reply.started": "2022-03-15T19:16:32.285717Z"
    },
    "papermill": {
     "duration": 1.500648,
     "end_time": "2022-03-15T21:03:43.193464",
     "exception": false,
     "start_time": "2022-03-15T21:03:41.692816",
     "status": "completed"
    },
    "tags": []
   },
   "outputs": [],
   "source": [
    "#Submission\n",
    "pred_sub = model.predict(test_data_vectors)\n",
    "Result=pd.DataFrame(data={'id':test_data['id'],'target':pred_sub})\n",
    "Result.to_csv('Submission.csv',index=False)"
   ]
  }
 ],
 "metadata": {
  "kernelspec": {
   "display_name": "Python 3",
   "language": "python",
   "name": "python3"
  },
  "language_info": {
   "codemirror_mode": {
    "name": "ipython",
    "version": 3
   },
   "file_extension": ".py",
   "mimetype": "text/x-python",
   "name": "python",
   "nbconvert_exporter": "python",
   "pygments_lexer": "ipython3",
   "version": "3.7.12"
  },
  "papermill": {
   "default_parameters": {},
   "duration": 3238.292548,
   "end_time": "2022-03-15T21:03:44.137733",
   "environment_variables": {},
   "exception": null,
   "input_path": "__notebook__.ipynb",
   "output_path": "__notebook__.ipynb",
   "parameters": {},
   "start_time": "2022-03-15T20:09:45.845185",
   "version": "2.3.3"
  }
 },
 "nbformat": 4,
 "nbformat_minor": 5
}
