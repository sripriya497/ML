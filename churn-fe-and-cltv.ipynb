{
 "cells": [
  {
   "cell_type": "code",
   "execution_count": 1,
   "id": "0869739a",
   "metadata": {
    "_cell_guid": "b1076dfc-b9ad-4769-8c92-a6c4dae69d19",
    "_uuid": "8f2839f25d086af736a60e9eeb907d3b93b6e0e5",
    "execution": {
     "iopub.execute_input": "2022-03-17T09:37:17.046530Z",
     "iopub.status.busy": "2022-03-17T09:37:17.045637Z",
     "iopub.status.idle": "2022-03-17T09:37:17.056650Z",
     "shell.execute_reply": "2022-03-17T09:37:17.055831Z",
     "shell.execute_reply.started": "2022-03-17T08:03:45.662552Z"
    },
    "papermill": {
     "duration": 0.052622,
     "end_time": "2022-03-17T09:37:17.056854",
     "exception": false,
     "start_time": "2022-03-17T09:37:17.004232",
     "status": "completed"
    },
    "tags": []
   },
   "outputs": [
    {
     "name": "stdout",
     "output_type": "stream",
     "text": [
      "/kaggle/input/churn-prediction/Churn.csv\n"
     ]
    }
   ],
   "source": [
    "# This Python 3 environment comes with many helpful analytics libraries installed\n",
    "# It is defined by the kaggle/python Docker image: https://github.com/kaggle/docker-python\n",
    "# For example, here's several helpful packages to load\n",
    "\n",
    "import numpy as np # linear algebra\n",
    "import pandas as pd # data processing, CSV file I/O (e.g. pd.read_csv)\n",
    "\n",
    "# Input data files are available in the read-only \"../input/\" directory\n",
    "# For example, running this (by clicking run or pressing Shift+Enter) will list all files under the input directory\n",
    "\n",
    "import os\n",
    "for dirname, _, filenames in os.walk('/kaggle/input'):\n",
    "    for filename in filenames:\n",
    "        print(os.path.join(dirname, filename))\n",
    "\n",
    "# You can write up to 20GB to the current directory (/kaggle/working/) that gets preserved as output when you create a version using \"Save & Run All\" \n",
    "# You can also write temporary files to /kaggle/temp/, but they won't be saved outside of the current session"
   ]
  },
  {
   "cell_type": "code",
   "execution_count": 2,
   "id": "731ced8f",
   "metadata": {
    "execution": {
     "iopub.execute_input": "2022-03-17T09:37:17.113563Z",
     "iopub.status.busy": "2022-03-17T09:37:17.112836Z",
     "iopub.status.idle": "2022-03-17T09:37:18.533956Z",
     "shell.execute_reply": "2022-03-17T09:37:18.533154Z",
     "shell.execute_reply.started": "2022-03-17T08:06:13.612919Z"
    },
    "papermill": {
     "duration": 1.450141,
     "end_time": "2022-03-17T09:37:18.534138",
     "exception": false,
     "start_time": "2022-03-17T09:37:17.083997",
     "status": "completed"
    },
    "tags": []
   },
   "outputs": [],
   "source": [
    "import pandas as pd\n",
    "import numpy as np\n",
    "from sklearn.preprocessing import LabelEncoder\n",
    "import matplotlib.pyplot as plt\n",
    "import seaborn as sb\n",
    "from sklearn.preprocessing import StandardScaler, MinMaxScaler\n"
   ]
  },
  {
   "cell_type": "code",
   "execution_count": 3,
   "id": "c4db043e",
   "metadata": {
    "execution": {
     "iopub.execute_input": "2022-03-17T09:37:18.593156Z",
     "iopub.status.busy": "2022-03-17T09:37:18.592383Z",
     "iopub.status.idle": "2022-03-17T09:37:18.656102Z",
     "shell.execute_reply": "2022-03-17T09:37:18.655469Z",
     "shell.execute_reply.started": "2022-03-17T08:07:52.375900Z"
    },
    "papermill": {
     "duration": 0.09586,
     "end_time": "2022-03-17T09:37:18.656266",
     "exception": false,
     "start_time": "2022-03-17T09:37:18.560406",
     "status": "completed"
    },
    "tags": []
   },
   "outputs": [],
   "source": [
    "data=pd.read_csv('/kaggle/input/churn-prediction/Churn.csv')"
   ]
  },
  {
   "cell_type": "code",
   "execution_count": 4,
   "id": "9efdade4",
   "metadata": {
    "execution": {
     "iopub.execute_input": "2022-03-17T09:37:18.710903Z",
     "iopub.status.busy": "2022-03-17T09:37:18.710234Z",
     "iopub.status.idle": "2022-03-17T09:37:18.757368Z",
     "shell.execute_reply": "2022-03-17T09:37:18.756111Z",
     "shell.execute_reply.started": "2022-03-17T08:08:04.507035Z"
    },
    "papermill": {
     "duration": 0.075832,
     "end_time": "2022-03-17T09:37:18.757697",
     "exception": false,
     "start_time": "2022-03-17T09:37:18.681865",
     "status": "completed"
    },
    "tags": []
   },
   "outputs": [
    {
     "name": "stdout",
     "output_type": "stream",
     "text": [
      "<class 'pandas.core.frame.DataFrame'>\n",
      "RangeIndex: 7043 entries, 0 to 7042\n",
      "Data columns (total 21 columns):\n",
      " #   Column            Non-Null Count  Dtype  \n",
      "---  ------            --------------  -----  \n",
      " 0   customerID        7043 non-null   object \n",
      " 1   gender            7043 non-null   object \n",
      " 2   SeniorCitizen     7043 non-null   int64  \n",
      " 3   Partner           7043 non-null   object \n",
      " 4   Dependents        7043 non-null   object \n",
      " 5   tenure            7043 non-null   int64  \n",
      " 6   PhoneService      7043 non-null   object \n",
      " 7   MultipleLines     7043 non-null   object \n",
      " 8   InternetService   7043 non-null   object \n",
      " 9   OnlineSecurity    7043 non-null   object \n",
      " 10  OnlineBackup      7043 non-null   object \n",
      " 11  DeviceProtection  7043 non-null   object \n",
      " 12  TechSupport       7043 non-null   object \n",
      " 13  StreamingTV       7043 non-null   object \n",
      " 14  StreamingMovies   7043 non-null   object \n",
      " 15  Contract          7043 non-null   object \n",
      " 16  PaperlessBilling  7043 non-null   object \n",
      " 17  PaymentMethod     7043 non-null   object \n",
      " 18  MonthlyCharges    7043 non-null   float64\n",
      " 19  TotalCharges      7043 non-null   object \n",
      " 20  Churn             7043 non-null   object \n",
      "dtypes: float64(1), int64(2), object(18)\n",
      "memory usage: 1.1+ MB\n"
     ]
    }
   ],
   "source": [
    "data.info()"
   ]
  },
  {
   "cell_type": "markdown",
   "id": "9f4b9394",
   "metadata": {
    "papermill": {
     "duration": 0.026757,
     "end_time": "2022-03-17T09:37:18.813347",
     "exception": false,
     "start_time": "2022-03-17T09:37:18.786590",
     "status": "completed"
    },
    "tags": []
   },
   "source": [
    "Feature Engineering and Visualization"
   ]
  },
  {
   "cell_type": "code",
   "execution_count": 5,
   "id": "0d2d3c64",
   "metadata": {
    "execution": {
     "iopub.execute_input": "2022-03-17T09:37:18.870564Z",
     "iopub.status.busy": "2022-03-17T09:37:18.869894Z",
     "iopub.status.idle": "2022-03-17T09:37:18.912195Z",
     "shell.execute_reply": "2022-03-17T09:37:18.912711Z",
     "shell.execute_reply.started": "2022-03-17T08:09:09.646500Z"
    },
    "papermill": {
     "duration": 0.07281,
     "end_time": "2022-03-17T09:37:18.912897",
     "exception": false,
     "start_time": "2022-03-17T09:37:18.840087",
     "status": "completed"
    },
    "tags": []
   },
   "outputs": [
    {
     "data": {
      "text/html": [
       "<div>\n",
       "<style scoped>\n",
       "    .dataframe tbody tr th:only-of-type {\n",
       "        vertical-align: middle;\n",
       "    }\n",
       "\n",
       "    .dataframe tbody tr th {\n",
       "        vertical-align: top;\n",
       "    }\n",
       "\n",
       "    .dataframe thead th {\n",
       "        text-align: right;\n",
       "    }\n",
       "</style>\n",
       "<table border=\"1\" class=\"dataframe\">\n",
       "  <thead>\n",
       "    <tr style=\"text-align: right;\">\n",
       "      <th></th>\n",
       "      <th>customerID</th>\n",
       "      <th>gender</th>\n",
       "      <th>SeniorCitizen</th>\n",
       "      <th>Partner</th>\n",
       "      <th>Dependents</th>\n",
       "      <th>tenure</th>\n",
       "      <th>PhoneService</th>\n",
       "      <th>MultipleLines</th>\n",
       "      <th>InternetService</th>\n",
       "      <th>OnlineSecurity</th>\n",
       "      <th>...</th>\n",
       "      <th>DeviceProtection</th>\n",
       "      <th>TechSupport</th>\n",
       "      <th>StreamingTV</th>\n",
       "      <th>StreamingMovies</th>\n",
       "      <th>Contract</th>\n",
       "      <th>PaperlessBilling</th>\n",
       "      <th>PaymentMethod</th>\n",
       "      <th>MonthlyCharges</th>\n",
       "      <th>TotalCharges</th>\n",
       "      <th>Churn</th>\n",
       "    </tr>\n",
       "  </thead>\n",
       "  <tbody>\n",
       "    <tr>\n",
       "      <th>488</th>\n",
       "      <td>4472-LVYGI</td>\n",
       "      <td>Female</td>\n",
       "      <td>0</td>\n",
       "      <td>Yes</td>\n",
       "      <td>Yes</td>\n",
       "      <td>0</td>\n",
       "      <td>No</td>\n",
       "      <td>No phone service</td>\n",
       "      <td>DSL</td>\n",
       "      <td>Yes</td>\n",
       "      <td>...</td>\n",
       "      <td>Yes</td>\n",
       "      <td>Yes</td>\n",
       "      <td>Yes</td>\n",
       "      <td>No</td>\n",
       "      <td>Two year</td>\n",
       "      <td>Yes</td>\n",
       "      <td>Bank transfer (automatic)</td>\n",
       "      <td>52.55</td>\n",
       "      <td></td>\n",
       "      <td>No</td>\n",
       "    </tr>\n",
       "    <tr>\n",
       "      <th>753</th>\n",
       "      <td>3115-CZMZD</td>\n",
       "      <td>Male</td>\n",
       "      <td>0</td>\n",
       "      <td>No</td>\n",
       "      <td>Yes</td>\n",
       "      <td>0</td>\n",
       "      <td>Yes</td>\n",
       "      <td>No</td>\n",
       "      <td>No</td>\n",
       "      <td>No internet service</td>\n",
       "      <td>...</td>\n",
       "      <td>No internet service</td>\n",
       "      <td>No internet service</td>\n",
       "      <td>No internet service</td>\n",
       "      <td>No internet service</td>\n",
       "      <td>Two year</td>\n",
       "      <td>No</td>\n",
       "      <td>Mailed check</td>\n",
       "      <td>20.25</td>\n",
       "      <td></td>\n",
       "      <td>No</td>\n",
       "    </tr>\n",
       "    <tr>\n",
       "      <th>936</th>\n",
       "      <td>5709-LVOEQ</td>\n",
       "      <td>Female</td>\n",
       "      <td>0</td>\n",
       "      <td>Yes</td>\n",
       "      <td>Yes</td>\n",
       "      <td>0</td>\n",
       "      <td>Yes</td>\n",
       "      <td>No</td>\n",
       "      <td>DSL</td>\n",
       "      <td>Yes</td>\n",
       "      <td>...</td>\n",
       "      <td>Yes</td>\n",
       "      <td>No</td>\n",
       "      <td>Yes</td>\n",
       "      <td>Yes</td>\n",
       "      <td>Two year</td>\n",
       "      <td>No</td>\n",
       "      <td>Mailed check</td>\n",
       "      <td>80.85</td>\n",
       "      <td></td>\n",
       "      <td>No</td>\n",
       "    </tr>\n",
       "    <tr>\n",
       "      <th>1082</th>\n",
       "      <td>4367-NUYAO</td>\n",
       "      <td>Male</td>\n",
       "      <td>0</td>\n",
       "      <td>Yes</td>\n",
       "      <td>Yes</td>\n",
       "      <td>0</td>\n",
       "      <td>Yes</td>\n",
       "      <td>Yes</td>\n",
       "      <td>No</td>\n",
       "      <td>No internet service</td>\n",
       "      <td>...</td>\n",
       "      <td>No internet service</td>\n",
       "      <td>No internet service</td>\n",
       "      <td>No internet service</td>\n",
       "      <td>No internet service</td>\n",
       "      <td>Two year</td>\n",
       "      <td>No</td>\n",
       "      <td>Mailed check</td>\n",
       "      <td>25.75</td>\n",
       "      <td></td>\n",
       "      <td>No</td>\n",
       "    </tr>\n",
       "    <tr>\n",
       "      <th>1340</th>\n",
       "      <td>1371-DWPAZ</td>\n",
       "      <td>Female</td>\n",
       "      <td>0</td>\n",
       "      <td>Yes</td>\n",
       "      <td>Yes</td>\n",
       "      <td>0</td>\n",
       "      <td>No</td>\n",
       "      <td>No phone service</td>\n",
       "      <td>DSL</td>\n",
       "      <td>Yes</td>\n",
       "      <td>...</td>\n",
       "      <td>Yes</td>\n",
       "      <td>Yes</td>\n",
       "      <td>Yes</td>\n",
       "      <td>No</td>\n",
       "      <td>Two year</td>\n",
       "      <td>No</td>\n",
       "      <td>Credit card (automatic)</td>\n",
       "      <td>56.05</td>\n",
       "      <td></td>\n",
       "      <td>No</td>\n",
       "    </tr>\n",
       "    <tr>\n",
       "      <th>3331</th>\n",
       "      <td>7644-OMVMY</td>\n",
       "      <td>Male</td>\n",
       "      <td>0</td>\n",
       "      <td>Yes</td>\n",
       "      <td>Yes</td>\n",
       "      <td>0</td>\n",
       "      <td>Yes</td>\n",
       "      <td>No</td>\n",
       "      <td>No</td>\n",
       "      <td>No internet service</td>\n",
       "      <td>...</td>\n",
       "      <td>No internet service</td>\n",
       "      <td>No internet service</td>\n",
       "      <td>No internet service</td>\n",
       "      <td>No internet service</td>\n",
       "      <td>Two year</td>\n",
       "      <td>No</td>\n",
       "      <td>Mailed check</td>\n",
       "      <td>19.85</td>\n",
       "      <td></td>\n",
       "      <td>No</td>\n",
       "    </tr>\n",
       "    <tr>\n",
       "      <th>3826</th>\n",
       "      <td>3213-VVOLG</td>\n",
       "      <td>Male</td>\n",
       "      <td>0</td>\n",
       "      <td>Yes</td>\n",
       "      <td>Yes</td>\n",
       "      <td>0</td>\n",
       "      <td>Yes</td>\n",
       "      <td>Yes</td>\n",
       "      <td>No</td>\n",
       "      <td>No internet service</td>\n",
       "      <td>...</td>\n",
       "      <td>No internet service</td>\n",
       "      <td>No internet service</td>\n",
       "      <td>No internet service</td>\n",
       "      <td>No internet service</td>\n",
       "      <td>Two year</td>\n",
       "      <td>No</td>\n",
       "      <td>Mailed check</td>\n",
       "      <td>25.35</td>\n",
       "      <td></td>\n",
       "      <td>No</td>\n",
       "    </tr>\n",
       "    <tr>\n",
       "      <th>4380</th>\n",
       "      <td>2520-SGTTA</td>\n",
       "      <td>Female</td>\n",
       "      <td>0</td>\n",
       "      <td>Yes</td>\n",
       "      <td>Yes</td>\n",
       "      <td>0</td>\n",
       "      <td>Yes</td>\n",
       "      <td>No</td>\n",
       "      <td>No</td>\n",
       "      <td>No internet service</td>\n",
       "      <td>...</td>\n",
       "      <td>No internet service</td>\n",
       "      <td>No internet service</td>\n",
       "      <td>No internet service</td>\n",
       "      <td>No internet service</td>\n",
       "      <td>Two year</td>\n",
       "      <td>No</td>\n",
       "      <td>Mailed check</td>\n",
       "      <td>20.00</td>\n",
       "      <td></td>\n",
       "      <td>No</td>\n",
       "    </tr>\n",
       "    <tr>\n",
       "      <th>5218</th>\n",
       "      <td>2923-ARZLG</td>\n",
       "      <td>Male</td>\n",
       "      <td>0</td>\n",
       "      <td>Yes</td>\n",
       "      <td>Yes</td>\n",
       "      <td>0</td>\n",
       "      <td>Yes</td>\n",
       "      <td>No</td>\n",
       "      <td>No</td>\n",
       "      <td>No internet service</td>\n",
       "      <td>...</td>\n",
       "      <td>No internet service</td>\n",
       "      <td>No internet service</td>\n",
       "      <td>No internet service</td>\n",
       "      <td>No internet service</td>\n",
       "      <td>One year</td>\n",
       "      <td>Yes</td>\n",
       "      <td>Mailed check</td>\n",
       "      <td>19.70</td>\n",
       "      <td></td>\n",
       "      <td>No</td>\n",
       "    </tr>\n",
       "    <tr>\n",
       "      <th>6670</th>\n",
       "      <td>4075-WKNIU</td>\n",
       "      <td>Female</td>\n",
       "      <td>0</td>\n",
       "      <td>Yes</td>\n",
       "      <td>Yes</td>\n",
       "      <td>0</td>\n",
       "      <td>Yes</td>\n",
       "      <td>Yes</td>\n",
       "      <td>DSL</td>\n",
       "      <td>No</td>\n",
       "      <td>...</td>\n",
       "      <td>Yes</td>\n",
       "      <td>Yes</td>\n",
       "      <td>Yes</td>\n",
       "      <td>No</td>\n",
       "      <td>Two year</td>\n",
       "      <td>No</td>\n",
       "      <td>Mailed check</td>\n",
       "      <td>73.35</td>\n",
       "      <td></td>\n",
       "      <td>No</td>\n",
       "    </tr>\n",
       "    <tr>\n",
       "      <th>6754</th>\n",
       "      <td>2775-SEFEE</td>\n",
       "      <td>Male</td>\n",
       "      <td>0</td>\n",
       "      <td>No</td>\n",
       "      <td>Yes</td>\n",
       "      <td>0</td>\n",
       "      <td>Yes</td>\n",
       "      <td>Yes</td>\n",
       "      <td>DSL</td>\n",
       "      <td>Yes</td>\n",
       "      <td>...</td>\n",
       "      <td>No</td>\n",
       "      <td>Yes</td>\n",
       "      <td>No</td>\n",
       "      <td>No</td>\n",
       "      <td>Two year</td>\n",
       "      <td>Yes</td>\n",
       "      <td>Bank transfer (automatic)</td>\n",
       "      <td>61.90</td>\n",
       "      <td></td>\n",
       "      <td>No</td>\n",
       "    </tr>\n",
       "  </tbody>\n",
       "</table>\n",
       "<p>11 rows × 21 columns</p>\n",
       "</div>"
      ],
      "text/plain": [
       "      customerID  gender  SeniorCitizen Partner Dependents  tenure  \\\n",
       "488   4472-LVYGI  Female              0     Yes        Yes       0   \n",
       "753   3115-CZMZD    Male              0      No        Yes       0   \n",
       "936   5709-LVOEQ  Female              0     Yes        Yes       0   \n",
       "1082  4367-NUYAO    Male              0     Yes        Yes       0   \n",
       "1340  1371-DWPAZ  Female              0     Yes        Yes       0   \n",
       "3331  7644-OMVMY    Male              0     Yes        Yes       0   \n",
       "3826  3213-VVOLG    Male              0     Yes        Yes       0   \n",
       "4380  2520-SGTTA  Female              0     Yes        Yes       0   \n",
       "5218  2923-ARZLG    Male              0     Yes        Yes       0   \n",
       "6670  4075-WKNIU  Female              0     Yes        Yes       0   \n",
       "6754  2775-SEFEE    Male              0      No        Yes       0   \n",
       "\n",
       "     PhoneService     MultipleLines InternetService       OnlineSecurity  ...  \\\n",
       "488            No  No phone service             DSL                  Yes  ...   \n",
       "753           Yes                No              No  No internet service  ...   \n",
       "936           Yes                No             DSL                  Yes  ...   \n",
       "1082          Yes               Yes              No  No internet service  ...   \n",
       "1340           No  No phone service             DSL                  Yes  ...   \n",
       "3331          Yes                No              No  No internet service  ...   \n",
       "3826          Yes               Yes              No  No internet service  ...   \n",
       "4380          Yes                No              No  No internet service  ...   \n",
       "5218          Yes                No              No  No internet service  ...   \n",
       "6670          Yes               Yes             DSL                   No  ...   \n",
       "6754          Yes               Yes             DSL                  Yes  ...   \n",
       "\n",
       "         DeviceProtection          TechSupport          StreamingTV  \\\n",
       "488                   Yes                  Yes                  Yes   \n",
       "753   No internet service  No internet service  No internet service   \n",
       "936                   Yes                   No                  Yes   \n",
       "1082  No internet service  No internet service  No internet service   \n",
       "1340                  Yes                  Yes                  Yes   \n",
       "3331  No internet service  No internet service  No internet service   \n",
       "3826  No internet service  No internet service  No internet service   \n",
       "4380  No internet service  No internet service  No internet service   \n",
       "5218  No internet service  No internet service  No internet service   \n",
       "6670                  Yes                  Yes                  Yes   \n",
       "6754                   No                  Yes                   No   \n",
       "\n",
       "          StreamingMovies  Contract PaperlessBilling  \\\n",
       "488                    No  Two year              Yes   \n",
       "753   No internet service  Two year               No   \n",
       "936                   Yes  Two year               No   \n",
       "1082  No internet service  Two year               No   \n",
       "1340                   No  Two year               No   \n",
       "3331  No internet service  Two year               No   \n",
       "3826  No internet service  Two year               No   \n",
       "4380  No internet service  Two year               No   \n",
       "5218  No internet service  One year              Yes   \n",
       "6670                   No  Two year               No   \n",
       "6754                   No  Two year              Yes   \n",
       "\n",
       "                  PaymentMethod MonthlyCharges  TotalCharges Churn  \n",
       "488   Bank transfer (automatic)          52.55                  No  \n",
       "753                Mailed check          20.25                  No  \n",
       "936                Mailed check          80.85                  No  \n",
       "1082               Mailed check          25.75                  No  \n",
       "1340    Credit card (automatic)          56.05                  No  \n",
       "3331               Mailed check          19.85                  No  \n",
       "3826               Mailed check          25.35                  No  \n",
       "4380               Mailed check          20.00                  No  \n",
       "5218               Mailed check          19.70                  No  \n",
       "6670               Mailed check          73.35                  No  \n",
       "6754  Bank transfer (automatic)          61.90                  No  \n",
       "\n",
       "[11 rows x 21 columns]"
      ]
     },
     "execution_count": 5,
     "metadata": {},
     "output_type": "execute_result"
    }
   ],
   "source": [
    "#Converting ' ' to Nan and dropping rows\n",
    "data[data['TotalCharges']==' ']"
   ]
  },
  {
   "cell_type": "code",
   "execution_count": 6,
   "id": "8674023e",
   "metadata": {
    "execution": {
     "iopub.execute_input": "2022-03-17T09:37:18.970489Z",
     "iopub.status.busy": "2022-03-17T09:37:18.969840Z",
     "iopub.status.idle": "2022-03-17T09:37:18.987306Z",
     "shell.execute_reply": "2022-03-17T09:37:18.987872Z",
     "shell.execute_reply.started": "2022-03-17T08:11:27.406756Z"
    },
    "papermill": {
     "duration": 0.048278,
     "end_time": "2022-03-17T09:37:18.988050",
     "exception": false,
     "start_time": "2022-03-17T09:37:18.939772",
     "status": "completed"
    },
    "tags": []
   },
   "outputs": [],
   "source": [
    "data['TotalCharges'] = data['TotalCharges'].replace(' ', float('NaN'), regex = True)"
   ]
  },
  {
   "cell_type": "code",
   "execution_count": 7,
   "id": "5b174fc4",
   "metadata": {
    "execution": {
     "iopub.execute_input": "2022-03-17T09:37:19.048915Z",
     "iopub.status.busy": "2022-03-17T09:37:19.048215Z",
     "iopub.status.idle": "2022-03-17T09:37:19.072154Z",
     "shell.execute_reply": "2022-03-17T09:37:19.072696Z",
     "shell.execute_reply.started": "2022-03-17T08:11:30.431420Z"
    },
    "papermill": {
     "duration": 0.055459,
     "end_time": "2022-03-17T09:37:19.072881",
     "exception": false,
     "start_time": "2022-03-17T09:37:19.017422",
     "status": "completed"
    },
    "tags": []
   },
   "outputs": [],
   "source": [
    "data.dropna(inplace = True)"
   ]
  },
  {
   "cell_type": "code",
   "execution_count": 8,
   "id": "e63076f9",
   "metadata": {
    "execution": {
     "iopub.execute_input": "2022-03-17T09:37:19.131784Z",
     "iopub.status.busy": "2022-03-17T09:37:19.131084Z",
     "iopub.status.idle": "2022-03-17T09:37:19.141578Z",
     "shell.execute_reply": "2022-03-17T09:37:19.142105Z",
     "shell.execute_reply.started": "2022-03-17T08:11:32.401194Z"
    },
    "papermill": {
     "duration": 0.042622,
     "end_time": "2022-03-17T09:37:19.142300",
     "exception": false,
     "start_time": "2022-03-17T09:37:19.099678",
     "status": "completed"
    },
    "tags": []
   },
   "outputs": [],
   "source": [
    "#ChangingObjectDataTypeToFloat\n",
    "data['TotalCharges']=pd.to_numeric(data['TotalCharges'],downcast='float')"
   ]
  },
  {
   "cell_type": "code",
   "execution_count": 9,
   "id": "c6bb58b6",
   "metadata": {
    "execution": {
     "iopub.execute_input": "2022-03-17T09:37:19.201593Z",
     "iopub.status.busy": "2022-03-17T09:37:19.200914Z",
     "iopub.status.idle": "2022-03-17T09:37:19.227088Z",
     "shell.execute_reply": "2022-03-17T09:37:19.227663Z",
     "shell.execute_reply.started": "2022-03-17T08:13:33.112029Z"
    },
    "papermill": {
     "duration": 0.057316,
     "end_time": "2022-03-17T09:37:19.227875",
     "exception": false,
     "start_time": "2022-03-17T09:37:19.170559",
     "status": "completed"
    },
    "tags": []
   },
   "outputs": [
    {
     "name": "stdout",
     "output_type": "stream",
     "text": [
      "<class 'pandas.core.frame.DataFrame'>\n",
      "Int64Index: 7032 entries, 0 to 7042\n",
      "Data columns (total 21 columns):\n",
      " #   Column            Non-Null Count  Dtype  \n",
      "---  ------            --------------  -----  \n",
      " 0   customerID        7032 non-null   object \n",
      " 1   gender            7032 non-null   object \n",
      " 2   SeniorCitizen     7032 non-null   int64  \n",
      " 3   Partner           7032 non-null   object \n",
      " 4   Dependents        7032 non-null   object \n",
      " 5   tenure            7032 non-null   int64  \n",
      " 6   PhoneService      7032 non-null   object \n",
      " 7   MultipleLines     7032 non-null   object \n",
      " 8   InternetService   7032 non-null   object \n",
      " 9   OnlineSecurity    7032 non-null   object \n",
      " 10  OnlineBackup      7032 non-null   object \n",
      " 11  DeviceProtection  7032 non-null   object \n",
      " 12  TechSupport       7032 non-null   object \n",
      " 13  StreamingTV       7032 non-null   object \n",
      " 14  StreamingMovies   7032 non-null   object \n",
      " 15  Contract          7032 non-null   object \n",
      " 16  PaperlessBilling  7032 non-null   object \n",
      " 17  PaymentMethod     7032 non-null   object \n",
      " 18  MonthlyCharges    7032 non-null   float64\n",
      " 19  TotalCharges      7032 non-null   float32\n",
      " 20  Churn             7032 non-null   object \n",
      "dtypes: float32(1), float64(1), int64(2), object(17)\n",
      "memory usage: 1.2+ MB\n"
     ]
    }
   ],
   "source": [
    "data.info()"
   ]
  },
  {
   "cell_type": "code",
   "execution_count": 10,
   "id": "b4391568",
   "metadata": {
    "execution": {
     "iopub.execute_input": "2022-03-17T09:37:19.285992Z",
     "iopub.status.busy": "2022-03-17T09:37:19.285350Z",
     "iopub.status.idle": "2022-03-17T09:37:19.924712Z",
     "shell.execute_reply": "2022-03-17T09:37:19.924044Z",
     "shell.execute_reply.started": "2022-03-17T09:00:43.176958Z"
    },
    "papermill": {
     "duration": 0.669604,
     "end_time": "2022-03-17T09:37:19.924873",
     "exception": false,
     "start_time": "2022-03-17T09:37:19.255269",
     "status": "completed"
    },
    "tags": []
   },
   "outputs": [
    {
     "data": {
      "text/plain": [
       "<AxesSubplot:xlabel='tenure', ylabel='Count'>"
      ]
     },
     "execution_count": 10,
     "metadata": {},
     "output_type": "execute_result"
    },
    {
     "data": {
      "image/png": "[encoded data removed]",
      "text/plain": [
       "<Figure size 432x288 with 1 Axes>"
      ]
     },
     "metadata": {
      "needs_background": "light"
     },
     "output_type": "display_data"
    }
   ],
   "source": [
    "sb.histplot(x='tenure',hue='Churn',data=data,multiple='dodge',bins=50)"
   ]
  },
  {
   "cell_type": "markdown",
   "id": "779fc140",
   "metadata": {
    "papermill": {
     "duration": 0.028513,
     "end_time": "2022-03-17T09:37:19.982338",
     "exception": false,
     "start_time": "2022-03-17T09:37:19.953825",
     "status": "completed"
    },
    "tags": []
   },
   "source": [
    "Above histplot indicates that customers with tenure less than five months churn more. "
   ]
  },
  {
   "cell_type": "code",
   "execution_count": 11,
   "id": "1ea7f2bb",
   "metadata": {
    "execution": {
     "iopub.execute_input": "2022-03-17T09:37:20.050585Z",
     "iopub.status.busy": "2022-03-17T09:37:20.049859Z",
     "iopub.status.idle": "2022-03-17T09:37:20.848402Z",
     "shell.execute_reply": "2022-03-17T09:37:20.847838Z",
     "shell.execute_reply.started": "2022-03-17T08:14:24.438215Z"
    },
    "papermill": {
     "duration": 0.836543,
     "end_time": "2022-03-17T09:37:20.848566",
     "exception": false,
     "start_time": "2022-03-17T09:37:20.012023",
     "status": "completed"
    },
    "tags": []
   },
   "outputs": [
    {
     "data": {
      "text/plain": [
       "<function matplotlib.pyplot.tight_layout(*, pad=1.08, h_pad=None, w_pad=None, rect=None)>"
      ]
     },
     "execution_count": 11,
     "metadata": {},
     "output_type": "execute_result"
    },
    {
     "data": {
      "image/png": "[encoded data removed]",
      "text/plain": [
       "<Figure size 720x576 with 4 Axes>"
      ]
     },
     "metadata": {
      "needs_background": "light"
     },
     "output_type": "display_data"
    }
   ],
   "source": [
    "plt.figure(figsize=(10,8))\n",
    "plt.subplot(2,2,1)   \n",
    "sb.countplot(x='Contract',data=data,hue='Churn')\n",
    "plt.subplot(2,2,2)   \n",
    "sb.countplot(x='OnlineSecurity',data=data,hue='Churn')\n",
    "plt.subplot(2,2,3)   \n",
    "sb.countplot(x='InternetService',data=data,hue='Churn')\n",
    "plt.subplot(2,2,4)   \n",
    "sb.countplot(x='PaymentMethod',data=data,hue='Churn')\n",
    "plt.xticks(rotation='vertical')\n",
    "plt.tight_layout"
   ]
  },
  {
   "cell_type": "code",
   "execution_count": 12,
   "id": "9d1fda7a",
   "metadata": {
    "execution": {
     "iopub.execute_input": "2022-03-17T09:37:20.923369Z",
     "iopub.status.busy": "2022-03-17T09:37:20.916219Z",
     "iopub.status.idle": "2022-03-17T09:37:21.249216Z",
     "shell.execute_reply": "2022-03-17T09:37:21.249732Z",
     "shell.execute_reply.started": "2022-03-17T08:14:56.621165Z"
    },
    "papermill": {
     "duration": 0.370925,
     "end_time": "2022-03-17T09:37:21.249918",
     "exception": false,
     "start_time": "2022-03-17T09:37:20.878993",
     "status": "completed"
    },
    "tags": []
   },
   "outputs": [
    {
     "data": {
      "text/plain": [
       "<AxesSubplot:xlabel='MonthlyCharges', ylabel='Count'>"
      ]
     },
     "execution_count": 12,
     "metadata": {},
     "output_type": "execute_result"
    },
    {
     "data": {
      "image/png": "[encoded data removed]",
      "text/plain": [
       "<Figure size 432x288 with 1 Axes>"
      ]
     },
     "metadata": {
      "needs_background": "light"
     },
     "output_type": "display_data"
    }
   ],
   "source": [
    "sb.histplot(x='MonthlyCharges',hue='Churn',data=data,multiple='dodge')"
   ]
  },
  {
   "cell_type": "code",
   "execution_count": 13,
   "id": "49c543e1",
   "metadata": {
    "execution": {
     "iopub.execute_input": "2022-03-17T09:37:21.319125Z",
     "iopub.status.busy": "2022-03-17T09:37:21.318192Z",
     "iopub.status.idle": "2022-03-17T09:37:21.520972Z",
     "shell.execute_reply": "2022-03-17T09:37:21.520270Z",
     "shell.execute_reply.started": "2022-03-17T08:15:20.828498Z"
    },
    "papermill": {
     "duration": 0.239823,
     "end_time": "2022-03-17T09:37:21.521143",
     "exception": false,
     "start_time": "2022-03-17T09:37:21.281320",
     "status": "completed"
    },
    "tags": []
   },
   "outputs": [
    {
     "name": "stderr",
     "output_type": "stream",
     "text": [
      "/opt/conda/lib/python3.7/site-packages/seaborn/_decorators.py:43: FutureWarning: Pass the following variable as a keyword arg: x. From version 0.12, the only valid positional argument will be `data`, and passing other arguments without an explicit keyword will result in an error or misinterpretation.\n",
      "  FutureWarning\n"
     ]
    },
    {
     "data": {
      "text/plain": [
       "<AxesSubplot:xlabel='TechSupport', ylabel='count'>"
      ]
     },
     "execution_count": 13,
     "metadata": {},
     "output_type": "execute_result"
    },
    {
     "data": {
      "image/png": "[encoded data removed]",
      "text/plain": [
       "<Figure size 432x288 with 1 Axes>"
      ]
     },
     "metadata": {
      "needs_background": "light"
     },
     "output_type": "display_data"
    }
   ],
   "source": [
    "sb.countplot(data['TechSupport'],hue=data['Churn'])"
   ]
  },
  {
   "cell_type": "markdown",
   "id": "bd37428d",
   "metadata": {
    "papermill": {
     "duration": 0.033668,
     "end_time": "2022-03-17T09:37:21.589509",
     "exception": false,
     "start_time": "2022-03-17T09:37:21.555841",
     "status": "completed"
    },
    "tags": []
   },
   "source": [
    "Customers without tech support seem to churn more than others. "
   ]
  },
  {
   "cell_type": "code",
   "execution_count": 14,
   "id": "f0609c33",
   "metadata": {
    "_kg_hide-output": true,
    "execution": {
     "iopub.execute_input": "2022-03-17T09:37:21.660124Z",
     "iopub.status.busy": "2022-03-17T09:37:21.659474Z",
     "iopub.status.idle": "2022-03-17T09:37:21.720280Z",
     "shell.execute_reply": "2022-03-17T09:37:21.720868Z",
     "shell.execute_reply.started": "2022-03-17T08:17:03.133192Z"
    },
    "papermill": {
     "duration": 0.097875,
     "end_time": "2022-03-17T09:37:21.721075",
     "exception": false,
     "start_time": "2022-03-17T09:37:21.623200",
     "status": "completed"
    },
    "tags": []
   },
   "outputs": [
    {
     "name": "stdout",
     "output_type": "stream",
     "text": [
      "<class 'pandas.core.frame.DataFrame'>\n",
      "Int64Index: 7032 entries, 0 to 7042\n",
      "Data columns (total 21 columns):\n",
      " #   Column            Non-Null Count  Dtype  \n",
      "---  ------            --------------  -----  \n",
      " 0   customerID        7032 non-null   object \n",
      " 1   gender            7032 non-null   int64  \n",
      " 2   SeniorCitizen     7032 non-null   int64  \n",
      " 3   Partner           7032 non-null   int64  \n",
      " 4   Dependents        7032 non-null   int64  \n",
      " 5   tenure            7032 non-null   int64  \n",
      " 6   PhoneService      7032 non-null   int64  \n",
      " 7   MultipleLines     7032 non-null   int64  \n",
      " 8   InternetService   7032 non-null   int64  \n",
      " 9   OnlineSecurity    7032 non-null   int64  \n",
      " 10  OnlineBackup      7032 non-null   int64  \n",
      " 11  DeviceProtection  7032 non-null   int64  \n",
      " 12  TechSupport       7032 non-null   int64  \n",
      " 13  StreamingTV       7032 non-null   int64  \n",
      " 14  StreamingMovies   7032 non-null   int64  \n",
      " 15  Contract          7032 non-null   int64  \n",
      " 16  PaperlessBilling  7032 non-null   int64  \n",
      " 17  PaymentMethod     7032 non-null   int64  \n",
      " 18  MonthlyCharges    7032 non-null   float64\n",
      " 19  TotalCharges      7032 non-null   float32\n",
      " 20  Churn             7032 non-null   int64  \n",
      "dtypes: float32(1), float64(1), int64(18), object(1)\n",
      "memory usage: 1.4+ MB\n"
     ]
    }
   ],
   "source": [
    "#CategoricalVariables-LabelEncoding\n",
    "def label_encode(df):\n",
    "    for cols in df.columns:\n",
    "        if df[cols].dtype == 'O':\n",
    "            if cols not in ['customerID','TotalCharges']:\n",
    "                df[cols]=LabelEncoder().fit_transform(df[cols])\n",
    "\n",
    "label_encode(data)\n",
    "\n",
    "data.info()"
   ]
  },
  {
   "cell_type": "code",
   "execution_count": 15,
   "id": "9da9b2f1",
   "metadata": {
    "_kg_hide-input": true,
    "execution": {
     "iopub.execute_input": "2022-03-17T09:37:21.805270Z",
     "iopub.status.busy": "2022-03-17T09:37:21.799715Z",
     "iopub.status.idle": "2022-03-17T09:37:21.808282Z",
     "shell.execute_reply": "2022-03-17T09:37:21.808963Z",
     "shell.execute_reply.started": "2022-03-17T08:21:14.942385Z"
    },
    "papermill": {
     "duration": 0.052976,
     "end_time": "2022-03-17T09:37:21.809162",
     "exception": false,
     "start_time": "2022-03-17T09:37:21.756186",
     "status": "completed"
    },
    "tags": []
   },
   "outputs": [],
   "source": [
    "def reduce_mem_usage(df, verbose=True):\n",
    "    numerics = ['int8','int16', 'int32', 'int64', 'float16', 'float32', 'float64']\n",
    "    start_mem = df.memory_usage().sum() / 1024**2\n",
    "\n",
    "    for col in df.columns:\n",
    "        col_type = df[col].dtypes\n",
    "\n",
    "        if col_type in numerics:\n",
    "            c_min = df[col].min()\n",
    "            \n",
    "            c_max = df[col].max()\n",
    "            \n",
    "\n",
    "            if str(col_type)[:3] == 'int':\n",
    "                if c_min > np.iinfo(np.int8).min and c_max < np.iinfo(np.int8).max:\n",
    "                    df[col] = df[col].astype(np.int8)\n",
    "                elif c_min > np.iinfo(np.int16).min and c_max < np.iinfo(np.int16).max:\n",
    "                    df[col] = df[col].astype(np.int16)\n",
    "                elif c_min > np.iinfo(np.int32).min and c_max < np.iinfo(np.int32).max:\n",
    "                    df[col] = df[col].astype(np.int32)\n",
    "                elif c_min > np.iinfo(np.int64).min and c_max < np.iinfo(np.int64).max:\n",
    "                    df[col] = df[col].astype(np.int64)  \n",
    "            else:\n",
    "                if c_min > np.finfo(np.float32).min and c_max < np.finfo(np.float32).max:\n",
    "                    df[col] = df[col].astype(np.float32)\n",
    "                else:\n",
    "                    df[col] = df[col].astype(np.float64)\n",
    "\n",
    "    end_mem = df.memory_usage().sum() / 1024**2\n",
    "\n",
    "    if verbose:\n",
    "        print('Mem. usage decreased to {:.2f} Mb ({:.1f}% reduction)'.format(end_mem, 100 * (start_mem - end_mem) / start_mem))"
   ]
  },
  {
   "cell_type": "code",
   "execution_count": 16,
   "id": "2aa33e90",
   "metadata": {
    "_kg_hide-input": true,
    "execution": {
     "iopub.execute_input": "2022-03-17T09:37:21.887721Z",
     "iopub.status.busy": "2022-03-17T09:37:21.881178Z",
     "iopub.status.idle": "2022-03-17T09:37:21.901312Z",
     "shell.execute_reply": "2022-03-17T09:37:21.901920Z",
     "shell.execute_reply.started": "2022-03-17T08:21:19.019184Z"
    },
    "papermill": {
     "duration": 0.058808,
     "end_time": "2022-03-17T09:37:21.902128",
     "exception": false,
     "start_time": "2022-03-17T09:37:21.843320",
     "status": "completed"
    },
    "tags": []
   },
   "outputs": [
    {
     "name": "stdout",
     "output_type": "stream",
     "text": [
      "Mem. usage decreased to 0.53 Mb (62.0% reduction)\n"
     ]
    }
   ],
   "source": [
    "reduce_mem_usage(data)"
   ]
  },
  {
   "cell_type": "markdown",
   "id": "7ecefe1c",
   "metadata": {
    "papermill": {
     "duration": 0.03474,
     "end_time": "2022-03-17T09:37:21.971888",
     "exception": false,
     "start_time": "2022-03-17T09:37:21.937148",
     "status": "completed"
    },
    "tags": []
   },
   "source": [
    "Customer Lifetime Value(CLTV) Calculation:\n",
    "\n",
    "CLTV indicates the total revenue/profit from the customer over the period of relationship with the company. This can be calculated by: CLTV=Customer_value * Profit_margin/Churn_rate\n",
    "where Customer_value=Average_Order_Value * Purchase_frequency and Churn_rate=1-Repeat_rate \n"
   ]
  },
  {
   "cell_type": "code",
   "execution_count": 17,
   "id": "f6c272b3",
   "metadata": {
    "execution": {
     "iopub.execute_input": "2022-03-17T09:37:22.050361Z",
     "iopub.status.busy": "2022-03-17T09:37:22.049605Z",
     "iopub.status.idle": "2022-03-17T09:37:22.054110Z",
     "shell.execute_reply": "2022-03-17T09:37:22.053159Z",
     "shell.execute_reply.started": "2022-03-17T08:30:52.670247Z"
    },
    "papermill": {
     "duration": 0.047243,
     "end_time": "2022-03-17T09:37:22.054281",
     "exception": false,
     "start_time": "2022-03-17T09:37:22.007038",
     "status": "completed"
    },
    "tags": []
   },
   "outputs": [],
   "source": [
    "data['Transaction']=data['TotalCharges']/data['MonthlyCharges']"
   ]
  },
  {
   "cell_type": "code",
   "execution_count": 18,
   "id": "6b97ed99",
   "metadata": {
    "execution": {
     "iopub.execute_input": "2022-03-17T09:37:22.127533Z",
     "iopub.status.busy": "2022-03-17T09:37:22.126894Z",
     "iopub.status.idle": "2022-03-17T09:37:23.095107Z",
     "shell.execute_reply": "2022-03-17T09:37:23.095648Z",
     "shell.execute_reply.started": "2022-03-17T08:31:28.324512Z"
    },
    "papermill": {
     "duration": 1.006499,
     "end_time": "2022-03-17T09:37:23.095834",
     "exception": false,
     "start_time": "2022-03-17T09:37:22.089335",
     "status": "completed"
    },
    "tags": []
   },
   "outputs": [],
   "source": [
    "cltv_data=data.groupby(['customerID']).agg({'Transaction':lambda x:x.sum().round(0),\n",
    "                                  'TotalCharges':lambda x:x.sum()})"
   ]
  },
  {
   "cell_type": "code",
   "execution_count": 19,
   "id": "1e49f3b2",
   "metadata": {
    "execution": {
     "iopub.execute_input": "2022-03-17T09:37:23.168056Z",
     "iopub.status.busy": "2022-03-17T09:37:23.167364Z",
     "iopub.status.idle": "2022-03-17T09:37:23.205954Z",
     "shell.execute_reply": "2022-03-17T09:37:23.206508Z",
     "shell.execute_reply.started": "2022-03-17T08:56:08.011053Z"
    },
    "papermill": {
     "duration": 0.076829,
     "end_time": "2022-03-17T09:37:23.206692",
     "exception": false,
     "start_time": "2022-03-17T09:37:23.129863",
     "status": "completed"
    },
    "tags": []
   },
   "outputs": [],
   "source": [
    "def calc_cltv(df,profit_percent):\n",
    "    \n",
    "    #Average_Order_Value = Total Charges / Total Transactions\n",
    "    #Purchase_frequency = Total Transactions / Total No.Of Customers\n",
    "    df['Customer_value']=(df['TotalCharges']/df['Transaction'])*(df['Transaction']/df.shape[0])\n",
    "    \n",
    "    #Profit_margin = Total Charges * profit_percent\n",
    "    df['Profit_margin']=df['TotalCharges']*0.05\n",
    "    \n",
    "    #Churn_rate = 1 - Repeat_rate\n",
    "    #Repeat_rate = Total No. of customers who didn't churn(Transaction>1) / Total No. of customers\n",
    "    Repeat_rate=df[df['Transaction']>1].shape[0]/df.shape[0]\n",
    "    Churn_rate=1-Repeat_rate\n",
    "    \n",
    "    #CLTV=Customer_value * Profit_margin/Churn_rate\n",
    "    df['CLTV']=df['Customer_value']*df['Profit_margin']/Churn_rate\n",
    "    df=df.reset_index()\n",
    "    \n",
    "    #Scaling\n",
    "    scaler=MinMaxScaler(feature_range=(0,1))\n",
    "    scaled_cltv=scaler.fit_transform(df[['Transaction', 'TotalCharges', 'Profit_margin',\n",
    "       'Customer_value', 'CLTV']])\n",
    "    \n",
    "    scaled_cltv=pd.DataFrame(scaled_cltv,columns=['Transaction', 'TotalCharges', 'Profit_margin',\n",
    "       'Customer_value', 'CLTV'])\n",
    "    scaled_cltv['customerID']=df['customerID']\n",
    "    clt=pd.merge(scaled_cltv,data[['customerID','Churn']],how='left',on='customerID')\n",
    "    #Customer Segmentation based on CLTV\n",
    "    clt['bucket']=pd.qcut(clt['CLTV'],q=4,labels=['very low revenue','low revenue','moderate revenue','high revenue'])\n",
    "    \n",
    "    return clt\n",
    "\n",
    "clt=calc_cltv(cltv_data,0.05)\n",
    "    "
   ]
  },
  {
   "cell_type": "markdown",
   "id": "ba9fcbd8",
   "metadata": {
    "papermill": {
     "duration": 0.033811,
     "end_time": "2022-03-17T09:37:23.275013",
     "exception": false,
     "start_time": "2022-03-17T09:37:23.241202",
     "status": "completed"
    },
    "tags": []
   },
   "source": [
    "Based on the CLTV calculated, customers are segmented into 4 categories.\n",
    "'very low revenue'<'low revenue'<'moderate revenue'<'high revenue'\n",
    "\n",
    "Higher the CLTV, higher the revenue."
   ]
  },
  {
   "cell_type": "code",
   "execution_count": 20,
   "id": "516cc089",
   "metadata": {
    "execution": {
     "iopub.execute_input": "2022-03-17T09:37:23.349872Z",
     "iopub.status.busy": "2022-03-17T09:37:23.349200Z",
     "iopub.status.idle": "2022-03-17T09:37:23.362512Z",
     "shell.execute_reply": "2022-03-17T09:37:23.361849Z",
     "shell.execute_reply.started": "2022-03-17T09:10:08.530011Z"
    },
    "papermill": {
     "duration": 0.053759,
     "end_time": "2022-03-17T09:37:23.362667",
     "exception": false,
     "start_time": "2022-03-17T09:37:23.308908",
     "status": "completed"
    },
    "tags": []
   },
   "outputs": [
    {
     "data": {
      "text/html": [
       "<div>\n",
       "<style scoped>\n",
       "    .dataframe tbody tr th:only-of-type {\n",
       "        vertical-align: middle;\n",
       "    }\n",
       "\n",
       "    .dataframe tbody tr th {\n",
       "        vertical-align: top;\n",
       "    }\n",
       "\n",
       "    .dataframe thead th {\n",
       "        text-align: right;\n",
       "    }\n",
       "</style>\n",
       "<table border=\"1\" class=\"dataframe\">\n",
       "  <thead>\n",
       "    <tr style=\"text-align: right;\">\n",
       "      <th></th>\n",
       "      <th>bucket</th>\n",
       "    </tr>\n",
       "    <tr>\n",
       "      <th>bucket</th>\n",
       "      <th></th>\n",
       "    </tr>\n",
       "  </thead>\n",
       "  <tbody>\n",
       "    <tr>\n",
       "      <th>very low revenue</th>\n",
       "      <td>764</td>\n",
       "    </tr>\n",
       "    <tr>\n",
       "      <th>low revenue</th>\n",
       "      <td>445</td>\n",
       "    </tr>\n",
       "    <tr>\n",
       "      <th>moderate revenue</th>\n",
       "      <td>405</td>\n",
       "    </tr>\n",
       "    <tr>\n",
       "      <th>high revenue</th>\n",
       "      <td>255</td>\n",
       "    </tr>\n",
       "  </tbody>\n",
       "</table>\n",
       "</div>"
      ],
      "text/plain": [
       "                  bucket\n",
       "bucket                  \n",
       "very low revenue     764\n",
       "low revenue          445\n",
       "moderate revenue     405\n",
       "high revenue         255"
      ]
     },
     "execution_count": 20,
     "metadata": {},
     "output_type": "execute_result"
    }
   ],
   "source": [
    "clt[clt['Churn']==1].groupby('bucket').agg({'bucket':lambda x:x.count()})\n"
   ]
  },
  {
   "cell_type": "code",
   "execution_count": 21,
   "id": "668d7db7",
   "metadata": {
    "execution": {
     "iopub.execute_input": "2022-03-17T09:37:23.439783Z",
     "iopub.status.busy": "2022-03-17T09:37:23.439053Z",
     "iopub.status.idle": "2022-03-17T09:37:23.451349Z",
     "shell.execute_reply": "2022-03-17T09:37:23.450821Z",
     "shell.execute_reply.started": "2022-03-17T09:10:13.197557Z"
    },
    "papermill": {
     "duration": 0.053523,
     "end_time": "2022-03-17T09:37:23.451533",
     "exception": false,
     "start_time": "2022-03-17T09:37:23.398010",
     "status": "completed"
    },
    "tags": []
   },
   "outputs": [
    {
     "data": {
      "text/html": [
       "<div>\n",
       "<style scoped>\n",
       "    .dataframe tbody tr th:only-of-type {\n",
       "        vertical-align: middle;\n",
       "    }\n",
       "\n",
       "    .dataframe tbody tr th {\n",
       "        vertical-align: top;\n",
       "    }\n",
       "\n",
       "    .dataframe thead th {\n",
       "        text-align: right;\n",
       "    }\n",
       "</style>\n",
       "<table border=\"1\" class=\"dataframe\">\n",
       "  <thead>\n",
       "    <tr style=\"text-align: right;\">\n",
       "      <th></th>\n",
       "      <th>bucket</th>\n",
       "    </tr>\n",
       "    <tr>\n",
       "      <th>bucket</th>\n",
       "      <th></th>\n",
       "    </tr>\n",
       "  </thead>\n",
       "  <tbody>\n",
       "    <tr>\n",
       "      <th>very low revenue</th>\n",
       "      <td>994</td>\n",
       "    </tr>\n",
       "    <tr>\n",
       "      <th>low revenue</th>\n",
       "      <td>1313</td>\n",
       "    </tr>\n",
       "    <tr>\n",
       "      <th>moderate revenue</th>\n",
       "      <td>1353</td>\n",
       "    </tr>\n",
       "    <tr>\n",
       "      <th>high revenue</th>\n",
       "      <td>1503</td>\n",
       "    </tr>\n",
       "  </tbody>\n",
       "</table>\n",
       "</div>"
      ],
      "text/plain": [
       "                  bucket\n",
       "bucket                  \n",
       "very low revenue     994\n",
       "low revenue         1313\n",
       "moderate revenue    1353\n",
       "high revenue        1503"
      ]
     },
     "execution_count": 21,
     "metadata": {},
     "output_type": "execute_result"
    }
   ],
   "source": [
    "clt[clt['Churn']==0].groupby('bucket').agg({'bucket':lambda x:x.count()})"
   ]
  },
  {
   "cell_type": "markdown",
   "id": "3897b906",
   "metadata": {
    "papermill": {
     "duration": 0.034931,
     "end_time": "2022-03-17T09:37:23.521832",
     "exception": false,
     "start_time": "2022-03-17T09:37:23.486901",
     "status": "completed"
    },
    "tags": []
   },
   "source": [
    "Customer with low revenue/profit have churned more than other customers."
   ]
  }
 ],
 "metadata": {
  "kernelspec": {
   "display_name": "Python 3",
   "language": "python",
   "name": "python3"
  },
  "language_info": {
   "codemirror_mode": {
    "name": "ipython",
    "version": 3
   },
   "file_extension": ".py",
   "mimetype": "text/x-python",
   "name": "python",
   "nbconvert_exporter": "python",
   "pygments_lexer": "ipython3",
   "version": "3.7.12"
  },
  "papermill": {
   "default_parameters": {},
   "duration": 18.677406,
   "end_time": "2022-03-17T09:37:24.570352",
   "environment_variables": {},
   "exception": null,
   "input_path": "__notebook__.ipynb",
   "output_path": "__notebook__.ipynb",
   "parameters": {},
   "start_time": "2022-03-17T09:37:05.892946",
   "version": "2.3.3"
  }
 },
 "nbformat": 4,
 "nbformat_minor": 5
}
